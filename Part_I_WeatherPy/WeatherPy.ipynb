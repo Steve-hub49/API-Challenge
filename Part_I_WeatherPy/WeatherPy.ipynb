{
 "cells": [
  {
   "cell_type": "markdown",
   "metadata": {},
   "source": [
    "## WeatherPy"
   ]
  },
  {
   "cell_type": "code",
   "execution_count": null,
   "metadata": {},
   "outputs": [],
   "source": [
    "# Observations\n",
    "# 1. As expected, temperature correlates well with latitude. As latitude moves away from the equator in either direction,\n",
    "# temperature also decreases.\n",
    "# 2. It appears there is arguably no correlation between humidity and latitude.\n",
    "# 3. Although there is only a slight correlation between wind speed and latitude, wind speed does appear to be relatively\n",
    "# higher closer to both the north and south poles versus the equator."
   ]
  },
  {
   "cell_type": "code",
   "execution_count": null,
   "metadata": {},
   "outputs": [],
   "source": [
    "# Note:\n",
    "# Instructions have been included for each segment. You do not have to follow them exactly, but they are included to help you think through the steps.\n"
   ]
  },
  {
   "cell_type": "code",
   "execution_count": null,
   "metadata": {},
   "outputs": [],
   "source": [
    "# Dependencies and Setup\n",
    "import os\n",
    "import time\n",
    "import random\n",
    "import pandas as pd\n",
    "import matplotlib.pyplot as plt\n",
    "import requests\n",
    "import json\n",
    "import numpy as np\n",
    "from scipy.stats import linregress\n",
    "from pprint import pprint\n",
    "from citipy import citipy\n",
    "from datetime import date\n",
    "from api_keys import weather_api_key\n",
    "from api_keys import g_key\n",
    "import scipy.stats as st\n",
    "\n",
    "# Incorporated citipy to determine city based on latitude and longitude\n",
    "from citipy import citipy\n",
    "\n",
    "# Output File (CSV)\n",
    "output_data_file = \"output_data/cities.csv\""
   ]
  },
  {
   "cell_type": "markdown",
   "metadata": {},
   "source": [
    "## Generate Cities List"
   ]
  },
  {
   "cell_type": "code",
   "execution_count": null,
   "metadata": {},
   "outputs": [],
   "source": [
    "# Range of latitudes and longitudes\n",
    "lat_range = (-90, 90)\n",
    "lng_range = (-180, 180)\n",
    "\n",
    "# List for holding lat_lngs and cities\n",
    "lat_lngs = []\n",
    "cities = []\n",
    "countries = []\n",
    "\n",
    "# Create a set of random lat and lng combinations and zip into a list of tuples\n",
    "lats = np.random.uniform(low=-90.000, high=90.000, size=1500)\n",
    "lngs = np.random.uniform(low=-180.000, high=180.000, size=1500)\n",
    "lat_lngs = zip(lats, lngs)\n",
    "\n",
    "# Identify nearest city for each lat, lng combination using the Citypy package to return a unique city and country code\n",
    "for lat_lng in lat_lngs:\n",
    "    city = citipy.nearest_city(lat_lng[0], lat_lng[1]).city_name\n",
    "    country = citipy.nearest_city(lat_lng[0], lat_lng[1]).country_code\n",
    "    \n",
    "    # If the city is unique, then add it to a our cities list\n",
    "    if city not in cities:\n",
    "        cities.append(city)\n",
    "        countries.append(country)\n",
    "\n",
    "# Combine the two lists into a list of tuples using the zip function\n",
    "city_country = zip(cities,countries)\n",
    "\n",
    "# Print the city count to confirm sufficient count ( Greater than 500 )\n",
    "print(len(cities))"
   ]
  },
  {
   "cell_type": "code",
   "execution_count": null,
   "metadata": {
    "scrolled": false
   },
   "outputs": [],
   "source": [
    "list(cities)"
   ]
  },
  {
   "cell_type": "markdown",
   "metadata": {},
   "source": [
    "### Perform API Calls\n",
    "* Perform a weather check on each city using a series of successive API calls.\n",
    "* Include a print log of each city as it'sbeing processed (with the city number and city name).\n"
   ]
  },
  {
   "cell_type": "code",
   "execution_count": null,
   "metadata": {},
   "outputs": [],
   "source": [
    "# url = \"http://api.openweathermap.org/data/2.5/weather?\"\n",
    "# units = \"imperial\"\n",
    "\n",
    "# # set up lists to hold reponse info\n",
    "# city_id = []\n",
    "# city_name = []\n",
    "# country = []\n",
    "# latitude = []\n",
    "# longitude = []\n",
    "# weather_date = []\n",
    "# temp = []\n",
    "# humidity = []\n",
    "# cloudiness = []\n",
    "# wind_speed = []\n",
    "\n",
    "# # Open file to write results of API calls - success or not into a txt file, as well as all data pulled into a csv\n",
    "# myprintlog = open('weatherAPI_printlog.txt', 'w')\n",
    "# myAPIdata = open('weatherAPI_data.csv', 'w')\n",
    "\n",
    "# # Write header line for csv file\n",
    "# myAPIdata.write(\"city_id,city_name,country,latitude,longitude,weather_date,temp,humidity,cloudiness,wind_speed\\n\")\n",
    "\n",
    "# # Loop through the list of tuples of cities,country codes and perform a request for data on each\n",
    "# for city,country_code in city_country:\n",
    "#     query_url = f\"{url}appid={weather_api_key}&q={city},{country_code}&units={units}\"\n",
    "#     response = requests.get(query_url).json()\n",
    "    \n",
    "#       # Try to grab the temp,humidity,cloudiness and wind speed if they are available in the Weather API\n",
    "#     # if the city is not found on the WeatherAPI site then the \"except\" will catch the error and the loop will\n",
    "#     # continue to go through the rest of the city,country_codes in the city_country list\n",
    "#     try:\n",
    "#         # Create variables for each response item and format to desired datatype\n",
    "#         cityID = int(response['id'])\n",
    "#         cityName = response['name']\n",
    "#         countryCode = response['sys']['country']\n",
    "#         lat_val = response['coord']['lat']\n",
    "#         lon_val = response['coord']['lon']\n",
    "#         weatherDate = (datetime.fromtimestamp(response['dt'])).strftime('%m/%d/%y')\n",
    "#         temperature = response['main']['temp']\n",
    "#         humidity_val = response['main']['humidity']\n",
    "#         cloudiness_val = response['clouds']['all']\n",
    "#         windSpeed = response['wind']['speed']\n",
    "        \n",
    "#         # Append retreived values to lists above using the variables created above\n",
    "#         city_id.append(cityID)\n",
    "#         city_name.append(cityName)\n",
    "#         country.append(countryCode)\n",
    "#         latitude.append(lat_val)\n",
    "#         longitude.append(lon_val)\n",
    "#         weather_date.append(weatherDate)\n",
    "#         temp.append(temperature)\n",
    "#         humidity.append(humidity_val)\n",
    "#         cloudiness.append(cloudiness_val)\n",
    "#         wind_speed.append(windSpeed)\n",
    "        \n",
    "#         # Output line to terminal to mark progress and store it to a print log text file\n",
    "#         print(f\"{cityName} with city ID:{cityID} was found in the Weathermap API\\n\")\n",
    "#         myprintlog.write(f\"{cityName} with city ID:{cityID} was found in the Weathermap API\\n\")\n",
    "        \n",
    "#         # Output all retreived values to a csv file\n",
    "#         myAPIdata.write(f\"{cityID},{cityName},{countryCode},{lat_val},{lon_val},{weatherDate},\\\n",
    "#             {temperature},{humidity_val},{cloudiness_val},{windSpeed}\\n\")\n",
    "        \n",
    "#     # Handle exceptions for a city that is not available in the Weather API\n",
    "#     except:\n",
    "        \n",
    "#         print(f\"{city},{country_code} was not found in the Weathermap API\\n\")\n",
    "#         myprintlog.write(f\"{city},{country_code} was not found in the Weathermap API\\n\")\n",
    "        \n",
    "#         # Append null values so lists are all the same length (later we will remove nulls from dataframe)\n",
    "#         city_id.append(None)\n",
    "#         city_name.append(None)\n",
    "#         country.append(None)\n",
    "#         latitude.append(None)\n",
    "#         longitude.append(None)\n",
    "#         weather_date.append(None)\n",
    "#         temp.append(None)\n",
    "#         humidity.append(None)\n",
    "#         cloudiness.append(None)\n",
    "#         wind_speed.append(None)\n",
    "#         pass\n",
    "    \n",
    "# # Indicate that Data Loading is complete \n",
    "# print(\"-----------------------------\")\n",
    "# print(\"Data Retrieval Complete      \")\n",
    "# print(\"-----------------------------\")"
   ]
  },
  {
   "cell_type": "code",
   "execution_count": null,
   "metadata": {},
   "outputs": [],
   "source": [
    "url=\"http://api.openweathermap.org/data/2.5/weather?\"\n",
    "units=\"imperial\"\n",
    "query_url = url + \"appid=\" + weather_api_key + \"&units=\" + units+\"&q=\"\n",
    "print(query_url)"
   ]
  },
  {
   "cell_type": "code",
   "execution_count": null,
   "metadata": {
    "scrolled": false
   },
   "outputs": [],
   "source": [
    "# SELECT 500 UNIQUE CITIES AND SAVE THE DATA INTO DFSELECTED.CSV \n",
    "city_name = []\n",
    "lat = []\n",
    "long = []\n",
    "temp = []\n",
    "humdity = []\n",
    "wind_speed = []\n",
    "cloudiness = []\n",
    "num = 1\n",
    "\n",
    "for city in cities: \n",
    "    try: \n",
    "        data = (requests.get(query_url + city)).json()\n",
    "        city_name.append(data[\"name\"])\n",
    "        lat.append(data[\"coord\"][\"lat\"])\n",
    "        long.append(data[\"coord\"][\"lon\"])\n",
    "        temp.append(data[\"main\"][\"temp\"])\n",
    "        humdity.append(data[\"main\"][\"humidity\"]) \n",
    "        wind_speed.append(data[\"wind\"][\"speed\"]) \n",
    "        cloudiness.append(data[\"clouds\"][\"all\"])\n",
    "        num = num + 1\n",
    "    except KeyError:\n",
    "        num = num + 1   \n",
    "                "
   ]
  },
  {
   "cell_type": "code",
   "execution_count": null,
   "metadata": {
    "scrolled": true
   },
   "outputs": [],
   "source": [
    "df=pd.DataFrame({\n",
    "    \"City\": city_name,\n",
    "    \"lat\": lat,\n",
    "    \"lon\": long,\n",
    "    \"temp_F\": temp,\n",
    "    \"humidity\": humdity,\n",
    "    \"cloudiness\": cloudiness,\n",
    "    \"wind_mph\": wind_speed\n",
    "})\n",
    "df=df.head(500)\n",
    "df"
   ]
  },
  {
   "cell_type": "markdown",
   "metadata": {},
   "source": [
    "### Convert Raw Data to DataFrame\n",
    "* Export the city data into a .csv.\n",
    "* Display the DataFrame"
   ]
  },
  {
   "cell_type": "code",
   "execution_count": null,
   "metadata": {
    "scrolled": false
   },
   "outputs": [],
   "source": [
    "# Convert array of JSONs into Pandas DataFrame\n",
    "\n",
    "weather_dict = {\"City\": city_name,\n",
    "                \"Latitude\":lat,\n",
    "                \"Longitude\":long,\n",
    "                \"Max Temp\":temp,\n",
    "              \"Humidity\":humdity,\n",
    "               \"Cloudiness\":cloudiness,\n",
    "              \"Wind Speed\":wind_speed,\n",
    "              # \"Country\":country,\n",
    "}\n",
    "weather_data = pd.DataFrame(weather_dict)\n",
    "weather_data.head()"
   ]
  },
  {
   "cell_type": "code",
   "execution_count": null,
   "metadata": {},
   "outputs": [],
   "source": [
    "# Export the City_Data into a csv\n",
    "weather_data.to_csv(r'output_data/my_weather_data.csv')\n",
    "# Show Record Count\n",
    "countforme = len(weather_data)\n",
    "countforme"
   ]
  },
  {
   "cell_type": "code",
   "execution_count": null,
   "metadata": {},
   "outputs": [],
   "source": [
    "# Display the City Data Frame\n",
    "weather_data.head()"
   ]
  },
  {
   "cell_type": "markdown",
   "metadata": {},
   "source": [
    "## Inspect the data and remove the cities where the humidity > 100%.\n",
    "----\n",
    "Skip this step if there are no cities that have humidity > 100%. "
   ]
  },
  {
   "cell_type": "code",
   "execution_count": null,
   "metadata": {},
   "outputs": [],
   "source": [
    "# Get the indices of cities that have humidity over 100%.\n",
    "weather_data.loc[weather_data['Humidity'] > 100]\n",
    "weather_data.loc[(weather_data['Humidity']<=100),:]"
   ]
  },
  {
   "cell_type": "markdown",
   "metadata": {},
   "source": [
    "## Plotting the Data\n",
    "* Use proper labeling of the plots using plot titles (including date of analysis) and axes labels.\n",
    "* Save the plotted figures as .pngs."
   ]
  },
  {
   "cell_type": "markdown",
   "metadata": {},
   "source": [
    "## Latitude vs. Temperature Plot"
   ]
  },
  {
   "cell_type": "code",
   "execution_count": null,
   "metadata": {
    "scrolled": false
   },
   "outputs": [],
   "source": [
    "# LATITUDE VERSUS TEMPERATURE PLOT\n",
    "weather_data.plot(kind='scatter', x='Latitude', y='Max Temp', c='DarkBlue')\n",
    "plt.title('City Latitude vs. Max Temperature ({})'.format(date.today()))\n",
    "plt.xlabel('Latitude')\n",
    "plt.ylabel('Max temperature (F)')\n",
    "plt.grid()\n",
    "plt.savefig(\"Images/LatitudeVsTemperature.png\")"
   ]
  },
  {
   "cell_type": "code",
   "execution_count": null,
   "metadata": {},
   "outputs": [],
   "source": [
    "# This code is analyzing the maximum temperature of each city relative to its latitude. As expected the highest temperature\n",
    "# ratings are evidenced closest to the equator, or between -20 and +20 latitude. As such, a correlation between these\n",
    "# metrics can be thought to exist. Interestingly, the highest few temperatures are evidenced slightly below the equator as\n",
    "# opposed to more evenly split across each side of the equator."
   ]
  },
  {
   "cell_type": "markdown",
   "metadata": {},
   "source": [
    "## Latitude vs. Humidity Plot"
   ]
  },
  {
   "cell_type": "code",
   "execution_count": null,
   "metadata": {
    "scrolled": true
   },
   "outputs": [],
   "source": [
    "# LATITUDE VERSUS HUMIDITY PLOT\n",
    "weather_data.plot(kind='scatter', x='Latitude', y='Humidity', c='DarkBlue')\n",
    "plt.title('City Latitude vs. Humidity ({})'.format(date.today()))\n",
    "plt.xlabel('Latitude')\n",
    "plt.ylabel('Humidity')\n",
    "plt.grid()\n",
    "plt.savefig(\"Images/LatitudeVsHumidity.png\")"
   ]
  },
  {
   "cell_type": "code",
   "execution_count": null,
   "metadata": {},
   "outputs": [],
   "source": [
    "# This code is analyzing the humidity of each city relative to its latitude. There does not appear to be a strong\n",
    "# correlation between these two metrics as higher (or lower) humidity readings appear across all latitudes."
   ]
  },
  {
   "cell_type": "markdown",
   "metadata": {},
   "source": [
    "## Latitude vs. Cloudiness Plot"
   ]
  },
  {
   "cell_type": "code",
   "execution_count": null,
   "metadata": {},
   "outputs": [],
   "source": [
    "# LATITUDE VERSUS CLOUDINESS PLOT\n",
    "weather_data.plot(kind='scatter', x='Latitude', y='Cloudiness', c='DarkBlue')\n",
    "plt.title('City Latitude vs. Cloudiness ({})'.format(date.today()))\n",
    "plt.xlabel('Latitude')\n",
    "plt.ylabel('Cloudiness')\n",
    "plt.grid()\n",
    "plt.savefig(\"Images/LatitudeVsCloudiness.png\")"
   ]
  },
  {
   "cell_type": "code",
   "execution_count": null,
   "metadata": {},
   "outputs": [],
   "source": [
    "# This code is analyzing the cloudiness level of each city relative to its latitude. There does not appear to be a strong\n",
    "# correlation between these two metrics as cloudiness levels are almost evenly distributed across the entire spectrum of \n",
    "# latitudes."
   ]
  },
  {
   "cell_type": "markdown",
   "metadata": {},
   "source": [
    "## Latitude vs. Wind Speed Plot"
   ]
  },
  {
   "cell_type": "code",
   "execution_count": null,
   "metadata": {
    "scrolled": true
   },
   "outputs": [],
   "source": [
    "# LATITUDE VERSUS WIND SPEED PLOT\n",
    "weather_data.plot(kind='scatter', x='Latitude', y='Wind Speed', c='DarkBlue')\n",
    "plt.title('City Latitude vs. Wind Speed ({})'.format(date.today()))\n",
    "plt.xlabel('Latitude')\n",
    "plt.ylabel('Wind Speed')\n",
    "plt.grid()\n",
    "plt.savefig(\"Images/LatitudeVsWind Speed.png\")"
   ]
  },
  {
   "cell_type": "code",
   "execution_count": null,
   "metadata": {},
   "outputs": [],
   "source": [
    "# This code is analyzing the wind speed of each city relative to its latitude. There does not appear to be a strong\n",
    "# correlation between these two metrics as a similar (and broad) range of wind speed appears to exist across the entire\n",
    "# spectrum of latitudes."
   ]
  },
  {
   "cell_type": "code",
   "execution_count": null,
   "metadata": {},
   "outputs": [],
   "source": [
    "# Create Northern and Southern Hemisphere DataFrames\n",
    "northlat_df = weather_data.loc[weather_data[\"Latitude\"] >= 0,:]\n",
    "southlat_df = weather_data.loc[weather_data[\"Latitude\"] < 0,:]\n",
    "\n",
    "northlat_df.head()"
   ]
  },
  {
   "cell_type": "markdown",
   "metadata": {},
   "source": [
    "## Linear Regression"
   ]
  },
  {
   "cell_type": "code",
   "execution_count": null,
   "metadata": {},
   "outputs": [],
   "source": [
    "# Define plotting function\n",
    "\n",
    "def plotLinearRegression(xdata,ydata,xlbl,ylbl,lblpos,ifig):\n",
    "    (slope, intercept, rvalue, pvalue, stderr) = linregress(xdata, ydata)\n",
    "    print(f\"The r-squared is: {rvalue}\")\n",
    "    regress_values = xdata * slope + intercept\n",
    "    line_eq = \"y = \" + str(round(slope,2)) + \"x + \" + str(round(intercept,2))\n",
    "\n",
    "    plt.scatter(xdata,ydata)\n",
    "    plt.plot(xdata,regress_values,\"r-\")\n",
    "    plt.annotate(line_eq,lblpos,fontsize=15,color=\"red\")\n",
    "    plt.xlabel(xlbl)\n",
    "    plt.ylabel(ylbl)\n",
    "    plt.savefig(f\"output_data/fig{ifig}.png\")\n",
    "    plt.show()"
   ]
  },
  {
   "cell_type": "markdown",
   "metadata": {},
   "source": [
    "####  Northern Hemisphere - Max Temp vs. Latitude Linear Regression"
   ]
  },
  {
   "cell_type": "code",
   "execution_count": null,
   "metadata": {
    "scrolled": true
   },
   "outputs": [],
   "source": [
    "x_values = northlat_df[\"Latitude\"]\n",
    "y_values = northlat_df[\"Max Temp\"]\n",
    "plotLinearRegression(x_values,y_values,'Lat','Max Temp',(6,30),\"latvmaxtemp\")"
   ]
  },
  {
   "cell_type": "code",
   "execution_count": null,
   "metadata": {},
   "outputs": [],
   "source": [
    "# This scatterplot reflects an r-squared value of -0.87, revealing a strong negative linear relationship between decreasing\n",
    "# latitude and decreasing temperature in the Northern Hemisphere. Said another way 87% of the variance is explained by\n",
    "# this linear model of y = -0.75 + 91.41, which is very good."
   ]
  },
  {
   "cell_type": "markdown",
   "metadata": {},
   "source": [
    "####  Southern Hemisphere - Max Temp vs. Latitude Linear Regression"
   ]
  },
  {
   "cell_type": "code",
   "execution_count": null,
   "metadata": {
    "scrolled": true
   },
   "outputs": [],
   "source": [
    "# Southern Hemisphere - Max Temp vs. Latitude Linear Regression\n",
    "x_values = southlat_df[\"Latitude\"]\n",
    "y_values = southlat_df[\"Max Temp\"]\n",
    "plotLinearRegression(x_values,y_values,'Lat','Max Temp',(6,30),\"latvmaxtemp\")"
   ]
  },
  {
   "cell_type": "code",
   "execution_count": null,
   "metadata": {},
   "outputs": [],
   "source": [
    "# This scatter plot shows a weaker relationship between temperature and latitude in the Southern Hemisphere, with an\n",
    "# r-squared value of 0.72. Said another way, the linear curve fit can only account for 72% of the variance seen in the data,\n",
    "# leaving the majority of the variance unexplained by the linear model. So, although there is an apparent correlation it is\n",
    "# not as strong as that for the Northern Hemisphere and is fairly weak at best."
   ]
  },
  {
   "cell_type": "markdown",
   "metadata": {},
   "source": [
    "####  Northern Hemisphere - Humidity (%) vs. Latitude Linear Regression"
   ]
  },
  {
   "cell_type": "code",
   "execution_count": null,
   "metadata": {
    "scrolled": true
   },
   "outputs": [],
   "source": [
    "# Northern Hemisphere - Humidity (%) vs. Latitude Linear Regression\n",
    "x_values = northlat_df[\"Latitude\"]\n",
    "y_values = northlat_df[\"Humidity\"]\n",
    "plotLinearRegression(x_values,y_values,'Lat','Humidity',(6,30),\"lathumdity\")"
   ]
  },
  {
   "cell_type": "code",
   "execution_count": null,
   "metadata": {},
   "outputs": [],
   "source": [
    "# This scatter plot shows a very weak relationship between latitude and humidity in the Northern Hemisphere with an\n",
    "# r-squared value of 0.12. This linear curve can only account for 12% of the variance seen in the data,\n",
    "# leaving the vast majority of the variance unexplained by the equation of the line y = 0.13x + 66.63. "
   ]
  },
  {
   "cell_type": "markdown",
   "metadata": {},
   "source": [
    "####  Southern Hemisphere - Humidity (%) vs. Latitude Linear Regression"
   ]
  },
  {
   "cell_type": "code",
   "execution_count": null,
   "metadata": {
    "scrolled": true
   },
   "outputs": [],
   "source": [
    "# Southern Hemisphere - Humidity (%) vs. Latitude Linear Regression\n",
    "x_values = southlat_df[\"Latitude\"]\n",
    "y_values = southlat_df[\"Humidity\"]\n",
    "plotLinearRegression(x_values,y_values,'Lat','Humidity',(6,30),\"lathumdity\")"
   ]
  },
  {
   "cell_type": "code",
   "execution_count": null,
   "metadata": {},
   "outputs": [],
   "source": [
    "# In the Southern Hemisphere there is a very weak correlation between latitude and humidity. The linear regression has an\n",
    "# r-squared value of 0.05, meaning 5% of the variance in the data is explained by the curve fit. "
   ]
  },
  {
   "cell_type": "markdown",
   "metadata": {},
   "source": [
    "####  Northern Hemisphere - Cloudiness (%) vs. Latitude Linear Regression"
   ]
  },
  {
   "cell_type": "code",
   "execution_count": null,
   "metadata": {
    "scrolled": true
   },
   "outputs": [],
   "source": [
    "# Northern Hemisphere - Cloudiness (%) vs. Latitude Linear Regression\n",
    "x_values = northlat_df[\"Latitude\"]\n",
    "y_values = northlat_df[\"Cloudiness\"]\n",
    "plotLinearRegression(x_values,y_values,'Lat','Cloudiness',(6,30),\"latcloudiness\")"
   ]
  },
  {
   "cell_type": "code",
   "execution_count": null,
   "metadata": {},
   "outputs": [],
   "source": [
    "# In the Northern Hemisphere there is not an apparent significant correlation between latitude and cloudiness.\n",
    "# The linear regression curve fit yields an equation of the line with an r-squared value of only 0.06, meaning the\n",
    "# linear equation of the line only explains 6% of the variance seen. The line of best fit confirms that there is\n",
    "# really no correlation between latitude and cloudiness in the Northern Hemisphere."
   ]
  },
  {
   "cell_type": "markdown",
   "metadata": {},
   "source": [
    "####  Southern Hemisphere - Cloudiness (%) vs. Latitude Linear Regression"
   ]
  },
  {
   "cell_type": "code",
   "execution_count": null,
   "metadata": {
    "scrolled": true
   },
   "outputs": [],
   "source": [
    "# Sourhern Hemisphere - Cloudiness (%) vs. Latitude Linear Regression\n",
    "x_values = southlat_df[\"Latitude\"]\n",
    "y_values = southlat_df[\"Cloudiness\"]\n",
    "plotLinearRegression(x_values,y_values,'Lat','Cloudiness',(6,30),\"latcloudiness\")"
   ]
  },
  {
   "cell_type": "code",
   "execution_count": null,
   "metadata": {},
   "outputs": [],
   "source": [
    "# In the Southern Hemisphere, latitude weakly correlates with cloudiness with an equation of the linear regression\n",
    "# yielding an r-squared value of 0.10, meaning only 10% of the variance of the observed data can be accounted for by this\n",
    "# equation. In short, this is a weak correlation."
   ]
  },
  {
   "cell_type": "markdown",
   "metadata": {},
   "source": [
    "####  Northern Hemisphere - Wind Speed (mph) vs. Latitude Linear Regression"
   ]
  },
  {
   "cell_type": "code",
   "execution_count": null,
   "metadata": {
    "scrolled": true
   },
   "outputs": [],
   "source": [
    "# Northern Hemisphere - Wind Speed (mph) vs. Latitude Linear Regression\n",
    "xlbl = \"Lat\"\n",
    "x_values = northlat_df[\"Latitude\"]\n",
    "y_values = northlat_df[\"Wind Speed\"]\n",
    "plotLinearRegression(x_values,y_values,'Lat','Wind Speed',(6,30),\"latwind_speed\")"
   ]
  },
  {
   "cell_type": "code",
   "execution_count": null,
   "metadata": {},
   "outputs": [],
   "source": [
    "# There is a low correlation between latitude and wind speed in the Northern Hemisphere. Only 16% of the variance can be\n",
    "# accounted for by the line of best fit."
   ]
  },
  {
   "cell_type": "markdown",
   "metadata": {},
   "source": [
    "####  Southern Hemisphere - Wind Speed (mph) vs. Latitude Linear Regression"
   ]
  },
  {
   "cell_type": "code",
   "execution_count": null,
   "metadata": {
    "scrolled": true
   },
   "outputs": [],
   "source": [
    "# Southern Hemisphere - Wind Speed (mph) vs. Latitude Linear Regression\n",
    "x_values = southlat_df[\"Latitude\"]\n",
    "y_values = southlat_df[\"Wind Speed\"]\n",
    "plotLinearRegression(x_values,y_values,'Lat','Wind Speed',(6,30),\"latwind_speed\")"
   ]
  },
  {
   "cell_type": "code",
   "execution_count": null,
   "metadata": {},
   "outputs": [],
   "source": [
    "# For the Southern Hemisphere there is a stronger correlation between latitude and wind speed with an r-squared value\n",
    "# of -0.24. A weak measure, it is saying that the majority of the variance cannot be explained by the\n",
    "# linear regression curve fit between wind speed and latitude."
   ]
  },
  {
   "cell_type": "code",
   "execution_count": null,
   "metadata": {},
   "outputs": [],
   "source": []
  }
 ],
 "metadata": {
  "anaconda-cloud": {},
  "kernel_info": {
   "name": "python3"
  },
  "kernelspec": {
   "display_name": "Python 3",
   "language": "python",
   "name": "python3"
  },
  "language_info": {
   "codemirror_mode": {
    "name": "ipython",
    "version": 3
   },
   "file_extension": ".py",
   "mimetype": "text/x-python",
   "name": "python",
   "nbconvert_exporter": "python",
   "pygments_lexer": "ipython3",
   "version": "3.6.10"
  },
  "latex_envs": {
   "LaTeX_envs_menu_present": true,
   "autoclose": false,
   "autocomplete": true,
   "bibliofile": "biblio.bib",
   "cite_by": "apalike",
   "current_citInitial": 1,
   "eqLabelWithNumbers": true,
   "eqNumInitial": 1,
   "hotkeys": {
    "equation": "Ctrl-E",
    "itemize": "Ctrl-I"
   },
   "labels_anchors": false,
   "latex_user_defs": false,
   "report_style_numbering": false,
   "user_envs_cfg": false
  },
  "nteract": {
   "version": "0.12.3"
  }
 },
 "nbformat": 4,
 "nbformat_minor": 2
}
