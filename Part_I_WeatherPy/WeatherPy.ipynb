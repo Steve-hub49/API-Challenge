{
 "cells": [
  {
   "cell_type": "markdown",
   "metadata": {},
   "source": [
    "## WeatherPy"
   ]
  },
  {
   "cell_type": "code",
   "execution_count": 1,
   "metadata": {},
   "outputs": [],
   "source": [
    "# Observations\n",
    "# 1. As expected, temperature correlates well with latitude. As latitude moves away from the equator in either direction,\n",
    "# temperature also decreases.\n",
    "# 2. It appears there is arguably no correlation between humidity and latitude.\n",
    "# 3. Although there is only a slight correlation between wind speed and latitude, wind speed does appear to be relatively\n",
    "# higher closer to both the north and south poles versus the equator."
   ]
  },
  {
   "cell_type": "code",
   "execution_count": 2,
   "metadata": {},
   "outputs": [],
   "source": [
    "# Note:\n",
    "# Instructions have been included for each segment. You do not have to follow them exactly, but they are included to help you think through the steps.\n"
   ]
  },
  {
   "cell_type": "code",
   "execution_count": 3,
   "metadata": {},
   "outputs": [
    {
     "ename": "ModuleNotFoundError",
     "evalue": "No module named 'api_keys'",
     "output_type": "error",
     "traceback": [
      "\u001b[1;31m---------------------------------------------------------------------------\u001b[0m",
      "\u001b[1;31mModuleNotFoundError\u001b[0m                       Traceback (most recent call last)",
      "\u001b[1;32m<ipython-input-3-e8a5d122eb64>\u001b[0m in \u001b[0;36m<module>\u001b[1;34m\u001b[0m\n\u001b[0;32m     12\u001b[0m \u001b[1;32mfrom\u001b[0m \u001b[0mcitipy\u001b[0m \u001b[1;32mimport\u001b[0m \u001b[0mcitipy\u001b[0m\u001b[1;33m\u001b[0m\u001b[1;33m\u001b[0m\u001b[0m\n\u001b[0;32m     13\u001b[0m \u001b[1;32mfrom\u001b[0m \u001b[0mdatetime\u001b[0m \u001b[1;32mimport\u001b[0m \u001b[0mdate\u001b[0m\u001b[1;33m\u001b[0m\u001b[1;33m\u001b[0m\u001b[0m\n\u001b[1;32m---> 14\u001b[1;33m \u001b[1;32mfrom\u001b[0m \u001b[0mapi_keys\u001b[0m \u001b[1;32mimport\u001b[0m \u001b[0mweather_api_key\u001b[0m\u001b[1;33m\u001b[0m\u001b[1;33m\u001b[0m\u001b[0m\n\u001b[0m\u001b[0;32m     15\u001b[0m \u001b[1;32mfrom\u001b[0m \u001b[0mapi_keys\u001b[0m \u001b[1;32mimport\u001b[0m \u001b[0mg_key\u001b[0m\u001b[1;33m\u001b[0m\u001b[1;33m\u001b[0m\u001b[0m\n\u001b[0;32m     16\u001b[0m \u001b[1;32mimport\u001b[0m \u001b[0mscipy\u001b[0m\u001b[1;33m.\u001b[0m\u001b[0mstats\u001b[0m \u001b[1;32mas\u001b[0m \u001b[0mst\u001b[0m\u001b[1;33m\u001b[0m\u001b[1;33m\u001b[0m\u001b[0m\n",
      "\u001b[1;31mModuleNotFoundError\u001b[0m: No module named 'api_keys'"
     ]
    }
   ],
   "source": [
    "# Dependencies and Setup\n",
    "import os\n",
    "import time\n",
    "import random\n",
    "import pandas as pd\n",
    "import matplotlib.pyplot as plt\n",
    "import requests\n",
    "import json\n",
    "import numpy as np\n",
    "from scipy.stats import linregress\n",
    "from pprint import pprint\n",
    "from citipy import citipy\n",
    "from datetime import date\n",
    "from api_keys import weather_api_key\n",
    "from api_keys import g_key\n",
    "import scipy.stats as st\n",
    "\n",
    "# Incorporated citipy to determine city based on latitude and longitude\n",
    "from citipy import citipy\n",
    "\n",
    "# Output File (CSV)\n",
    "output_data_file = \"output_data/cities.csv\""
   ]
  },
  {
   "cell_type": "markdown",
   "metadata": {},
   "source": [
    "## Generate Cities List"
   ]
  },
  {
   "cell_type": "code",
   "execution_count": 4,
   "metadata": {},
   "outputs": [
    {
     "name": "stdout",
     "output_type": "stream",
     "text": [
      "594\n"
     ]
    }
   ],
   "source": [
    "# Range of latitudes and longitudes\n",
    "lat_range = (-90, 90)\n",
    "lng_range = (-180, 180)\n",
    "\n",
    "# List for holding lat_lngs and cities\n",
    "lat_lngs = []\n",
    "cities = []\n",
    "countries = []\n",
    "\n",
    "# Create a set of random lat and lng combinations and zip into a list of tuples\n",
    "lats = np.random.uniform(low=-90.000, high=90.000, size=1500)\n",
    "lngs = np.random.uniform(low=-180.000, high=180.000, size=1500)\n",
    "lat_lngs = zip(lats, lngs)\n",
    "\n",
    "# Identify nearest city for each lat, lng combination using the Citypy package to return a unique city and country code\n",
    "for lat_lng in lat_lngs:\n",
    "    city = citipy.nearest_city(lat_lng[0], lat_lng[1]).city_name\n",
    "    country = citipy.nearest_city(lat_lng[0], lat_lng[1]).country_code\n",
    "    \n",
    "    # If the city is unique, then add it to a our cities list\n",
    "    if city not in cities:\n",
    "        cities.append(city)\n",
    "        countries.append(country)\n",
    "\n",
    "# Combine the two lists into a list of tuples using the zip function\n",
    "city_country = zip(cities,countries)\n",
    "\n",
    "# Print the city count to confirm sufficient count ( Greater than 500 )\n",
    "print(len(cities))"
   ]
  },
  {
   "cell_type": "code",
   "execution_count": 5,
   "metadata": {
    "scrolled": false
   },
   "outputs": [
    {
     "data": {
      "text/plain": [
       "['roma',\n",
       " 'kapaa',\n",
       " 'albany',\n",
       " 'punta arenas',\n",
       " 'cape town',\n",
       " 'ushuaia',\n",
       " 'port lincoln',\n",
       " 'chickasha',\n",
       " 'jamestown',\n",
       " 'annau',\n",
       " 'matara',\n",
       " 'vaini',\n",
       " 'bali',\n",
       " 'thompson',\n",
       " 'cidreira',\n",
       " 'hilo',\n",
       " 'lavrentiya',\n",
       " 'ribeira grande',\n",
       " 'seymchan',\n",
       " 'tsaratanana',\n",
       " 'atuona',\n",
       " 'mahebourg',\n",
       " 'dwarka',\n",
       " 'dikson',\n",
       " 'tuatapere',\n",
       " 'harboore',\n",
       " 'camargo',\n",
       " 'laguna',\n",
       " 'puerto ayora',\n",
       " 'bluff',\n",
       " 'khatanga',\n",
       " 'ouango',\n",
       " 'busselton',\n",
       " 'parana',\n",
       " 'bacolod',\n",
       " 'hithadhoo',\n",
       " 'lasa',\n",
       " 'durango',\n",
       " 'rikitea',\n",
       " 'belushya guba',\n",
       " 'faanui',\n",
       " 'mataura',\n",
       " 'bambous virieux',\n",
       " 'ponta do sol',\n",
       " 'komsomolskiy',\n",
       " 'coxim',\n",
       " 'naranjal',\n",
       " 'stulovo',\n",
       " 'zachagansk',\n",
       " 'college',\n",
       " 'saint-joseph',\n",
       " 'ahuimanu',\n",
       " 'nang rong',\n",
       " 'arraial do cabo',\n",
       " 'glendive',\n",
       " 'taolanaro',\n",
       " 'adre',\n",
       " 'bongandanga',\n",
       " 'chabahar',\n",
       " 'denpasar',\n",
       " 'lucapa',\n",
       " 'safford',\n",
       " 'lagoa',\n",
       " 'kashi',\n",
       " 'maltahohe',\n",
       " 'sambava',\n",
       " 'kletnya',\n",
       " 'pacific grove',\n",
       " 'bredasdorp',\n",
       " 'winnemucca',\n",
       " 'narsaq',\n",
       " 'morondava',\n",
       " 'vestmannaeyjar',\n",
       " 'goderich',\n",
       " 'new norfolk',\n",
       " 'sorland',\n",
       " 'lorengau',\n",
       " 'puerto quijarro',\n",
       " 'anadyr',\n",
       " 'corsicana',\n",
       " 'leningradskiy',\n",
       " 'pa sang',\n",
       " 'airai',\n",
       " 'nizhneyansk',\n",
       " 'caconda',\n",
       " 'vardo',\n",
       " 'tuggurt',\n",
       " 'moron',\n",
       " 'sao filipe',\n",
       " 'chuy',\n",
       " 'tumannyy',\n",
       " 'taoudenni',\n",
       " 'sayat',\n",
       " 'carnarvon',\n",
       " 'saldanha',\n",
       " 'ornskoldsvik',\n",
       " 'iqaluit',\n",
       " 'tripoli',\n",
       " 'severo-kurilsk',\n",
       " 'provideniya',\n",
       " 'georgetown',\n",
       " 'attawapiskat',\n",
       " 'huarmey',\n",
       " 'esperance',\n",
       " 'boden',\n",
       " 'santa rosa',\n",
       " 'saint anthony',\n",
       " 'mar del plata',\n",
       " 'louisbourg',\n",
       " 'aden',\n",
       " 'mongo',\n",
       " 'hobart',\n",
       " 'cherskiy',\n",
       " 'saint-gabriel',\n",
       " 'butaritari',\n",
       " 'kodiak',\n",
       " 'kot addu',\n",
       " 'barrow',\n",
       " 'bambanglipuro',\n",
       " 'mugur-aksy',\n",
       " 'toulepleu',\n",
       " 'corrente',\n",
       " 'hermanus',\n",
       " 'vaitupu',\n",
       " 'alofi',\n",
       " 'taburi',\n",
       " 'saint-philippe',\n",
       " 'lithakia',\n",
       " 'aleksandrov gay',\n",
       " 'victoria',\n",
       " 'ciro marina',\n",
       " 'babanka',\n",
       " 'samusu',\n",
       " 'cockburn town',\n",
       " 'tuktoyaktuk',\n",
       " 'kaitangata',\n",
       " 'svetlyy',\n",
       " 'marawi',\n",
       " 'zhigansk',\n",
       " 'port alfred',\n",
       " 'los llanos de aridane',\n",
       " 'champagnole',\n",
       " 'longyearbyen',\n",
       " 'labuhan',\n",
       " 'carballo',\n",
       " 'yatou',\n",
       " 'tenabo',\n",
       " 'port macquarie',\n",
       " 'plettenberg bay',\n",
       " 'tandil',\n",
       " 'neryungri',\n",
       " 'latung',\n",
       " 'yebaishou',\n",
       " 'zhongshu',\n",
       " 'touros',\n",
       " 'bayji',\n",
       " 'gadag',\n",
       " 'hofn',\n",
       " 'castro',\n",
       " 'korla',\n",
       " 'marrakesh',\n",
       " 'gamba',\n",
       " 'severo-yeniseyskiy',\n",
       " 'nikolskoye',\n",
       " 'avarua',\n",
       " 'sentyabrskiy',\n",
       " 'sisimiut',\n",
       " 'east london',\n",
       " 'san jeronimo',\n",
       " 'kondratovo',\n",
       " 'lebu',\n",
       " 'coquimbo',\n",
       " 'mitu',\n",
       " 'caravelas',\n",
       " 'pringsewu',\n",
       " 'launceston',\n",
       " 'borogontsy',\n",
       " 'olinda',\n",
       " 'kingaroy',\n",
       " 'shingu',\n",
       " 'keti bandar',\n",
       " 'portland',\n",
       " 'pevek',\n",
       " 'bara',\n",
       " 'fallon',\n",
       " 'emerald',\n",
       " 'ilulissat',\n",
       " 'coihaique',\n",
       " 'hasaki',\n",
       " 'asau',\n",
       " 'alugan',\n",
       " 'axim',\n",
       " 'aloleng',\n",
       " 'kruisfontein',\n",
       " 'norman wells',\n",
       " 'mandalgovi',\n",
       " 'comodoro rivadavia',\n",
       " 'brasileia',\n",
       " 'qaanaaq',\n",
       " 'san carlos de bariloche',\n",
       " 'garowe',\n",
       " 'san cristobal',\n",
       " 'buchanan',\n",
       " 'chokurdakh',\n",
       " 'kuminskiy',\n",
       " 'sola',\n",
       " 'mount gambier',\n",
       " 'krasnoselkup',\n",
       " 'takapau',\n",
       " 'paamiut',\n",
       " 'boddam',\n",
       " 'newport',\n",
       " 'pierre',\n",
       " 'codrington',\n",
       " 'tautira',\n",
       " 'shimoda',\n",
       " 'dobson',\n",
       " 'abu samrah',\n",
       " 'sorkjosen',\n",
       " 'waddan',\n",
       " 'aklavik',\n",
       " 'saskylakh',\n",
       " 'karratha',\n",
       " 'ancud',\n",
       " 'honiara',\n",
       " 'barentsburg',\n",
       " 'bathsheba',\n",
       " 'havoysund',\n",
       " 'sturgeon bay',\n",
       " 'jaciara',\n",
       " 'deputatskiy',\n",
       " 'guicheng',\n",
       " 'port elizabeth',\n",
       " 'cassilandia',\n",
       " 'srednekolymsk',\n",
       " 'grindavik',\n",
       " 'tasiilaq',\n",
       " 'belem de sao francisco',\n",
       " 'lolua',\n",
       " 'torbay',\n",
       " 'nhulunbuy',\n",
       " 'illoqqortoormiut',\n",
       " 'dauphin',\n",
       " 'hovd',\n",
       " 'yulara',\n",
       " 'yamada',\n",
       " 'ocampo',\n",
       " 'muravlenko',\n",
       " 'pesochnoye',\n",
       " 'laiagam',\n",
       " 'nagua',\n",
       " 'satitoa',\n",
       " 'amderma',\n",
       " 'sao joao da barra',\n",
       " 'yellowknife',\n",
       " 'singkang',\n",
       " 'todos santos',\n",
       " 'billings',\n",
       " 'port hardy',\n",
       " 'jinji',\n",
       " 'dumai',\n",
       " 'kudahuvadhoo',\n",
       " 'kushmurun',\n",
       " 'souillac',\n",
       " 'makung',\n",
       " 'nanortalik',\n",
       " 'saint-pierre',\n",
       " 'sahuaripa',\n",
       " 'benjamin constant',\n",
       " 'saint george',\n",
       " 'hokitika',\n",
       " 'bengkulu',\n",
       " 'atar',\n",
       " 'udachnyy',\n",
       " 'pauini',\n",
       " 'sainte-thecle',\n",
       " 'bud',\n",
       " 'katsuura',\n",
       " 'bethel',\n",
       " 'kasongo-lunda',\n",
       " 'russell',\n",
       " 'kirakira',\n",
       " 'rungata',\n",
       " 'ambon',\n",
       " 'prainha',\n",
       " 'vao',\n",
       " 'soyo',\n",
       " 'pisco',\n",
       " 'samarai',\n",
       " 'cabo san lucas',\n",
       " 'poyarkovo',\n",
       " 'klaksvik',\n",
       " 'panino',\n",
       " 'sangar',\n",
       " 'dingle',\n",
       " 'mys shmidta',\n",
       " 'fort-shevchenko',\n",
       " 'waipawa',\n",
       " 'waterloo',\n",
       " 'erenhot',\n",
       " 'kamenskoye',\n",
       " 'luwuk',\n",
       " 'acapulco',\n",
       " 'excelsior springs',\n",
       " 'atsiki',\n",
       " 'santa barbara',\n",
       " 'ribeira brava',\n",
       " 'severobaykalsk',\n",
       " 'itarema',\n",
       " 'fortuna',\n",
       " 'zavetnoye',\n",
       " 'faya',\n",
       " 'umm kaddadah',\n",
       " 'westport',\n",
       " 'palana',\n",
       " 'harper',\n",
       " 'kinel-cherkassy',\n",
       " 'sarangani',\n",
       " 'fairbanks',\n",
       " 'ewa beach',\n",
       " 'magadan',\n",
       " 'berdigestyakh',\n",
       " 'nantucket',\n",
       " 'stillwater',\n",
       " 'qaqortoq',\n",
       " 'chumikan',\n",
       " 'elizabeth city',\n",
       " 'santiago del estero',\n",
       " 'ampanihy',\n",
       " 'nabire',\n",
       " 'mahaicony',\n",
       " 'caxito',\n",
       " 'okha',\n",
       " 'phagwara',\n",
       " 'san patricio',\n",
       " 'puerto escondido',\n",
       " 'awbari',\n",
       " 'achisay',\n",
       " 'ubinskoye',\n",
       " 'clarence town',\n",
       " 'resistencia',\n",
       " 'meyungs',\n",
       " 'geraldton',\n",
       " 'san andres',\n",
       " 'karamea',\n",
       " 'vostok',\n",
       " 'kiruna',\n",
       " 'kindu',\n",
       " 'tsihombe',\n",
       " 'straumen',\n",
       " 'tabiauea',\n",
       " 'kanevskaya',\n",
       " 'yar-sale',\n",
       " 'kalemie',\n",
       " 'caucaia',\n",
       " 'sorong',\n",
       " 'egvekinot',\n",
       " 'biak',\n",
       " 'khani',\n",
       " 'tahta',\n",
       " 'warmbad',\n",
       " 'sao miguel do araguaia',\n",
       " 'nioro',\n",
       " 'rawson',\n",
       " 'nha trang',\n",
       " 'puerto el triunfo',\n",
       " 'kupang',\n",
       " 'xining',\n",
       " 'lac du bonnet',\n",
       " 'bull savanna',\n",
       " 'mount isa',\n",
       " 'vilyuysk',\n",
       " 'snezhnogorsk',\n",
       " 'ilo',\n",
       " 'xuddur',\n",
       " 'dunedin',\n",
       " 'hakkari',\n",
       " 'hay river',\n",
       " 'saint-francois',\n",
       " 'bandarbeyla',\n",
       " 'riberalta',\n",
       " 'uruacu',\n",
       " 'ketchikan',\n",
       " 'haines junction',\n",
       " 'ust-kulom',\n",
       " 'nemuro',\n",
       " 'cap malheureux',\n",
       " 'sinnamary',\n",
       " 'renqiu',\n",
       " 'maraba',\n",
       " 'vawkavysk',\n",
       " 'kerteh',\n",
       " 'grand river south east',\n",
       " 'belyy',\n",
       " 'makakilo city',\n",
       " 'manuk mangkaw',\n",
       " 'luganville',\n",
       " 'ust-tsilma',\n",
       " 'savannah bight',\n",
       " 'afsin',\n",
       " 'san-pedro',\n",
       " 'namibe',\n",
       " 'hambantota',\n",
       " 'grand gaube',\n",
       " 'ushtobe',\n",
       " 'sitka',\n",
       " 'bien hoa',\n",
       " 'port blair',\n",
       " 'kouango',\n",
       " 'hihifo',\n",
       " 'ahipara',\n",
       " 'asasa',\n",
       " 'sibolga',\n",
       " 'ballina',\n",
       " 'dicabisagan',\n",
       " 'weligama',\n",
       " 'lichinga',\n",
       " 'roald',\n",
       " 'pochutla',\n",
       " 'isangel',\n",
       " 'waingapu',\n",
       " 'cabra',\n",
       " 'koygorodok',\n",
       " 'ormara',\n",
       " 'coahuayana',\n",
       " 'maragogi',\n",
       " 'clyde river',\n",
       " 'cayenne',\n",
       " 'warrnambool',\n",
       " 'jacareacanga',\n",
       " 'tazovskiy',\n",
       " 'talakan',\n",
       " 'ambunti',\n",
       " 'logrono',\n",
       " 'fontanka',\n",
       " 'sobolevo',\n",
       " 'miraflores',\n",
       " 'kichera',\n",
       " 'sao felix do xingu',\n",
       " 'padang',\n",
       " 'kirishi',\n",
       " 'ternate',\n",
       " 'vanimo',\n",
       " 'nome',\n",
       " 'cascais',\n",
       " 'hamilton',\n",
       " 'ixtapa',\n",
       " 'saint-georges',\n",
       " 'sandwick',\n",
       " 'siguiri',\n",
       " 'talnakh',\n",
       " 'ijaki',\n",
       " 'chauk',\n",
       " 'eirunepe',\n",
       " 'rawah',\n",
       " 'nadezhda',\n",
       " 'tabou',\n",
       " 'nyurba',\n",
       " 'ostrovnoy',\n",
       " 'dolbeau',\n",
       " 'kantunilkin',\n",
       " 'atambua',\n",
       " 'saleaula',\n",
       " 'wanaka',\n",
       " 'el faiyum',\n",
       " 'flinders',\n",
       " 'shinjo',\n",
       " 'upernavik',\n",
       " 'itigi',\n",
       " 'tiksi',\n",
       " 'quesnel',\n",
       " 'angoche',\n",
       " 'barra do garcas',\n",
       " 'matagami',\n",
       " 'tignere',\n",
       " 'kalianget',\n",
       " 'pervomaysk',\n",
       " 'beloha',\n",
       " 'inhambane',\n",
       " 'kattivakkam',\n",
       " 'ondangwa',\n",
       " 'talwara',\n",
       " 'kalmunai',\n",
       " 'liwale',\n",
       " 'lukovetskiy',\n",
       " 'lanzhou',\n",
       " 'vila velha',\n",
       " 'kuchera',\n",
       " 'gadwal',\n",
       " 'virginia beach',\n",
       " 'ust-kalmanka',\n",
       " 'marsa matruh',\n",
       " 'noumea',\n",
       " 'kjollefjord',\n",
       " 'ereymentau',\n",
       " 'north vernon',\n",
       " 'howard springs',\n",
       " 'progreso',\n",
       " 'boulder',\n",
       " 'pangnirtung',\n",
       " 'guymon',\n",
       " 'geresk',\n",
       " 'norsup',\n",
       " 'mubende',\n",
       " 'laje',\n",
       " 'jalu',\n",
       " 'zonguldak',\n",
       " 'champoton',\n",
       " 'mae chan',\n",
       " 'pozo colorado',\n",
       " 'salalah',\n",
       " 'kautokeino',\n",
       " 'valle de allende',\n",
       " 'champerico',\n",
       " 'harfleur',\n",
       " 'ayan',\n",
       " 'tokur',\n",
       " 'tornio',\n",
       " 'great bend',\n",
       " 'sembe',\n",
       " 'kollam',\n",
       " 'finschhafen',\n",
       " 'lautaro',\n",
       " 'meadow lake',\n",
       " 'rexburg',\n",
       " 'marcona',\n",
       " 'saint-leu',\n",
       " 'barao de cocais',\n",
       " 'seguin',\n",
       " 'middelburg',\n",
       " 'hobyo',\n",
       " 'zambezi',\n",
       " 'aksha',\n",
       " 'moerai',\n",
       " 'cileungsi',\n",
       " 'beaverlodge',\n",
       " 'batagay-alyta',\n",
       " 'sibu',\n",
       " 'raudeberg',\n",
       " 'yarada',\n",
       " 'umzimvubu',\n",
       " 'kavaratti',\n",
       " 'fare',\n",
       " 'bilibino',\n",
       " 'forbes',\n",
       " 'banda aceh',\n",
       " 'buenavista',\n",
       " 'sabancuy',\n",
       " 'hami',\n",
       " 'naze',\n",
       " 'sheridan',\n",
       " 'ambilobe',\n",
       " 'riyadh',\n",
       " 'wad madani',\n",
       " 'carbonia',\n",
       " 'zhezkazgan',\n",
       " 'marathon',\n",
       " 'ndele',\n",
       " 'okhotsk',\n",
       " 'tura',\n",
       " 'evensk',\n",
       " 'salinas',\n",
       " 'puttur',\n",
       " 'tomatlan',\n",
       " 'port augusta',\n",
       " 'imeni zhelyabova',\n",
       " 'dianopolis',\n",
       " 'najran',\n",
       " 'miles city',\n",
       " 'hirado',\n",
       " 'quatre cocos',\n",
       " 'luderitz',\n",
       " 'pitimbu',\n",
       " 'san luis',\n",
       " 'gisborne',\n",
       " 'tiarei',\n",
       " 'amahai',\n",
       " 'derzhavinsk',\n",
       " 'cururupu',\n",
       " 'bababe',\n",
       " 'contamana',\n",
       " 'esqueda',\n",
       " 'eureka',\n",
       " 'bodden town',\n",
       " 'sabang',\n",
       " 'mandurah',\n",
       " 'jibuti',\n",
       " 'leh',\n",
       " 'san quintin',\n",
       " 'amapa',\n",
       " 'prince albert',\n",
       " 'churapcha',\n",
       " 'oranjemund',\n",
       " 'harur']"
      ]
     },
     "execution_count": 5,
     "metadata": {},
     "output_type": "execute_result"
    }
   ],
   "source": [
    "list(cities)"
   ]
  },
  {
   "cell_type": "markdown",
   "metadata": {},
   "source": [
    "### Perform API Calls\n",
    "* Perform a weather check on each city using a series of successive API calls.\n",
    "* Include a print log of each city as it'sbeing processed (with the city number and city name).\n"
   ]
  },
  {
   "cell_type": "code",
   "execution_count": 6,
   "metadata": {},
   "outputs": [
    {
     "ename": "NameError",
     "evalue": "name 'weather_api_key' is not defined",
     "output_type": "error",
     "traceback": [
      "\u001b[1;31m---------------------------------------------------------------------------\u001b[0m",
      "\u001b[1;31mNameError\u001b[0m                                 Traceback (most recent call last)",
      "\u001b[1;32m<ipython-input-6-d67423f8fc09>\u001b[0m in \u001b[0;36m<module>\u001b[1;34m\u001b[0m\n\u001b[0;32m     23\u001b[0m \u001b[1;31m# Loop through the list of tuples of cities,country codes and perform a request for data on each\u001b[0m\u001b[1;33m\u001b[0m\u001b[1;33m\u001b[0m\u001b[1;33m\u001b[0m\u001b[0m\n\u001b[0;32m     24\u001b[0m \u001b[1;32mfor\u001b[0m \u001b[0mcity\u001b[0m\u001b[1;33m,\u001b[0m\u001b[0mcountry_code\u001b[0m \u001b[1;32min\u001b[0m \u001b[0mcity_country\u001b[0m\u001b[1;33m:\u001b[0m\u001b[1;33m\u001b[0m\u001b[1;33m\u001b[0m\u001b[0m\n\u001b[1;32m---> 25\u001b[1;33m     \u001b[0mquery_url\u001b[0m \u001b[1;33m=\u001b[0m \u001b[1;34mf\"{url}appid={weather_api_key}&q={city},{country_code}&units={units}\"\u001b[0m\u001b[1;33m\u001b[0m\u001b[1;33m\u001b[0m\u001b[0m\n\u001b[0m\u001b[0;32m     26\u001b[0m     \u001b[0mresponse\u001b[0m \u001b[1;33m=\u001b[0m \u001b[0mrequests\u001b[0m\u001b[1;33m.\u001b[0m\u001b[0mget\u001b[0m\u001b[1;33m(\u001b[0m\u001b[0mquery_url\u001b[0m\u001b[1;33m)\u001b[0m\u001b[1;33m.\u001b[0m\u001b[0mjson\u001b[0m\u001b[1;33m(\u001b[0m\u001b[1;33m)\u001b[0m\u001b[1;33m\u001b[0m\u001b[1;33m\u001b[0m\u001b[0m\n\u001b[0;32m     27\u001b[0m \u001b[1;33m\u001b[0m\u001b[0m\n",
      "\u001b[1;31mNameError\u001b[0m: name 'weather_api_key' is not defined"
     ]
    }
   ],
   "source": [
    "url = \"http://api.openweathermap.org/data/2.5/weather?\"\n",
    "units = \"imperial\"\n",
    "\n",
    "# set up lists to hold reponse info\n",
    "city_id = []\n",
    "city_name = []\n",
    "country = []\n",
    "latitude = []\n",
    "longitude = []\n",
    "weather_date = []\n",
    "temp = []\n",
    "humidity = []\n",
    "cloudiness = []\n",
    "wind_speed = []\n",
    "\n",
    "# Open file to write results of API calls - success or not into a txt file, as well as all data pulled into a csv\n",
    "myprintlog = open('weatherAPI_printlog.txt', 'w')\n",
    "myAPIdata = open('weatherAPI_data.csv', 'w')\n",
    "\n",
    "# Write header line for csv file\n",
    "myAPIdata.write(\"city_id,city_name,country,latitude,longitude,weather_date,temp,humidity,cloudiness,wind_speed\\n\")\n",
    "\n",
    "# Loop through the list of tuples of cities,country codes and perform a request for data on each\n",
    "for city,country_code in city_country:\n",
    "    query_url = f\"{url}appid={weather_api_key}&q={city},{country_code}&units={units}\"\n",
    "    response = requests.get(query_url).json()\n",
    "    \n",
    "      # Try to grab the temp,humidity,cloudiness and wind speed if they are available in the Weather API\n",
    "    # if the city is not found on the WeatherAPI site then the \"except\" will catch the error and the loop will\n",
    "    # continue to go through the rest of the city,country_codes in the city_country list\n",
    "    try:\n",
    "        # Create variables for each response item and format to desired datatype\n",
    "        cityID = int(response['id'])\n",
    "        cityName = response['name']\n",
    "        countryCode = response['sys']['country']\n",
    "        lat_val = response['coord']['lat']\n",
    "        lon_val = response['coord']['lon']\n",
    "        weatherDate = (datetime.fromtimestamp(response['dt'])).strftime('%m/%d/%y')\n",
    "        temperature = response['main']['temp']\n",
    "        humidity_val = response['main']['humidity']\n",
    "        cloudiness_val = response['clouds']['all']\n",
    "        windSpeed = response['wind']['speed']\n",
    "        \n",
    "        # Append retreived values to lists above using the variables created above\n",
    "        city_id.append(cityID)\n",
    "        city_name.append(cityName)\n",
    "        country.append(countryCode)\n",
    "        latitude.append(lat_val)\n",
    "        longitude.append(lon_val)\n",
    "        weather_date.append(weatherDate)\n",
    "        temp.append(temperature)\n",
    "        humidity.append(humidity_val)\n",
    "        cloudiness.append(cloudiness_val)\n",
    "        wind_speed.append(windSpeed)\n",
    "        \n",
    "        # Output line to terminal to mark progress and store it to a print log text file\n",
    "        print(f\"{cityName} with city ID:{cityID} was found in the Weathermap API\\n\")\n",
    "        myprintlog.write(f\"{cityName} with city ID:{cityID} was found in the Weathermap API\\n\")\n",
    "        \n",
    "        # Output all retreived values to a csv file\n",
    "        myAPIdata.write(f\"{cityID},{cityName},{countryCode},{lat_val},{lon_val},{weatherDate},\\\n",
    "            {temperature},{humidity_val},{cloudiness_val},{windSpeed}\\n\")\n",
    "        \n",
    "    # Handle exceptions for a city that is not available in the Weather API\n",
    "    except:\n",
    "        \n",
    "        print(f\"{city},{country_code} was not found in the Weathermap API\\n\")\n",
    "        myprintlog.write(f\"{city},{country_code} was not found in the Weathermap API\\n\")\n",
    "        \n",
    "        # Append null values so lists are all the same length (later we will remove nulls from dataframe)\n",
    "        city_id.append(None)\n",
    "        city_name.append(None)\n",
    "        country.append(None)\n",
    "        latitude.append(None)\n",
    "        longitude.append(None)\n",
    "        weather_date.append(None)\n",
    "        temp.append(None)\n",
    "        humidity.append(None)\n",
    "        cloudiness.append(None)\n",
    "        wind_speed.append(None)\n",
    "        pass\n",
    "    \n",
    "# Indicate that Data Loading is complete \n",
    "print(\"-----------------------------\")\n",
    "print(\"Data Retrieval Complete      \")\n",
    "print(\"-----------------------------\")"
   ]
  },
  {
   "cell_type": "code",
   "execution_count": 7,
   "metadata": {},
   "outputs": [
    {
     "ename": "NameError",
     "evalue": "name 'weather_api_key' is not defined",
     "output_type": "error",
     "traceback": [
      "\u001b[1;31m---------------------------------------------------------------------------\u001b[0m",
      "\u001b[1;31mNameError\u001b[0m                                 Traceback (most recent call last)",
      "\u001b[1;32m<ipython-input-7-312ffeb95ff4>\u001b[0m in \u001b[0;36m<module>\u001b[1;34m\u001b[0m\n\u001b[0;32m      1\u001b[0m \u001b[0murl\u001b[0m\u001b[1;33m=\u001b[0m\u001b[1;34m\"http://api.openweathermap.org/data/2.5/weather?\"\u001b[0m\u001b[1;33m\u001b[0m\u001b[1;33m\u001b[0m\u001b[0m\n\u001b[0;32m      2\u001b[0m \u001b[0munits\u001b[0m\u001b[1;33m=\u001b[0m\u001b[1;34m\"imperial\"\u001b[0m\u001b[1;33m\u001b[0m\u001b[1;33m\u001b[0m\u001b[0m\n\u001b[1;32m----> 3\u001b[1;33m \u001b[0mquery_url\u001b[0m \u001b[1;33m=\u001b[0m \u001b[0murl\u001b[0m \u001b[1;33m+\u001b[0m \u001b[1;34m\"appid=\"\u001b[0m \u001b[1;33m+\u001b[0m \u001b[0mweather_api_key\u001b[0m \u001b[1;33m+\u001b[0m \u001b[1;34m\"&units=\"\u001b[0m \u001b[1;33m+\u001b[0m \u001b[0munits\u001b[0m\u001b[1;33m+\u001b[0m\u001b[1;34m\"&q=\"\u001b[0m\u001b[1;33m\u001b[0m\u001b[1;33m\u001b[0m\u001b[0m\n\u001b[0m\u001b[0;32m      4\u001b[0m \u001b[0mprint\u001b[0m\u001b[1;33m(\u001b[0m\u001b[0mquery_url\u001b[0m\u001b[1;33m)\u001b[0m\u001b[1;33m\u001b[0m\u001b[1;33m\u001b[0m\u001b[0m\n",
      "\u001b[1;31mNameError\u001b[0m: name 'weather_api_key' is not defined"
     ]
    }
   ],
   "source": [
    "url=\"http://api.openweathermap.org/data/2.5/weather?\"\n",
    "units=\"imperial\"\n",
    "query_url = url + \"appid=\" + weather_api_key + \"&units=\" + units+\"&q=\"\n",
    "print(query_url)"
   ]
  },
  {
   "cell_type": "code",
   "execution_count": 8,
   "metadata": {
    "scrolled": true
   },
   "outputs": [
    {
     "ename": "NameError",
     "evalue": "name 'query_url' is not defined",
     "output_type": "error",
     "traceback": [
      "\u001b[1;31m---------------------------------------------------------------------------\u001b[0m",
      "\u001b[1;31mNameError\u001b[0m                                 Traceback (most recent call last)",
      "\u001b[1;32m<ipython-input-8-23792b6104e7>\u001b[0m in \u001b[0;36m<module>\u001b[1;34m\u001b[0m\n\u001b[0;32m     11\u001b[0m \u001b[1;32mfor\u001b[0m \u001b[0mcity\u001b[0m \u001b[1;32min\u001b[0m \u001b[0mcities\u001b[0m\u001b[1;33m:\u001b[0m\u001b[1;33m\u001b[0m\u001b[1;33m\u001b[0m\u001b[0m\n\u001b[0;32m     12\u001b[0m     \u001b[1;32mtry\u001b[0m\u001b[1;33m:\u001b[0m\u001b[1;33m\u001b[0m\u001b[1;33m\u001b[0m\u001b[0m\n\u001b[1;32m---> 13\u001b[1;33m         \u001b[0mdata\u001b[0m \u001b[1;33m=\u001b[0m \u001b[1;33m(\u001b[0m\u001b[0mrequests\u001b[0m\u001b[1;33m.\u001b[0m\u001b[0mget\u001b[0m\u001b[1;33m(\u001b[0m\u001b[0mquery_url\u001b[0m \u001b[1;33m+\u001b[0m \u001b[0mcity\u001b[0m\u001b[1;33m)\u001b[0m\u001b[1;33m)\u001b[0m\u001b[1;33m.\u001b[0m\u001b[0mjson\u001b[0m\u001b[1;33m(\u001b[0m\u001b[1;33m)\u001b[0m\u001b[1;33m\u001b[0m\u001b[1;33m\u001b[0m\u001b[0m\n\u001b[0m\u001b[0;32m     14\u001b[0m         \u001b[0mcity_name\u001b[0m\u001b[1;33m.\u001b[0m\u001b[0mappend\u001b[0m\u001b[1;33m(\u001b[0m\u001b[0mdata\u001b[0m\u001b[1;33m[\u001b[0m\u001b[1;34m\"name\"\u001b[0m\u001b[1;33m]\u001b[0m\u001b[1;33m)\u001b[0m\u001b[1;33m\u001b[0m\u001b[1;33m\u001b[0m\u001b[0m\n\u001b[0;32m     15\u001b[0m         \u001b[0mlat\u001b[0m\u001b[1;33m.\u001b[0m\u001b[0mappend\u001b[0m\u001b[1;33m(\u001b[0m\u001b[0mdata\u001b[0m\u001b[1;33m[\u001b[0m\u001b[1;34m\"coord\"\u001b[0m\u001b[1;33m]\u001b[0m\u001b[1;33m[\u001b[0m\u001b[1;34m\"lat\"\u001b[0m\u001b[1;33m]\u001b[0m\u001b[1;33m)\u001b[0m\u001b[1;33m\u001b[0m\u001b[1;33m\u001b[0m\u001b[0m\n",
      "\u001b[1;31mNameError\u001b[0m: name 'query_url' is not defined"
     ]
    }
   ],
   "source": [
    "# SELECT 500 UNIQUE CITIES AND SAVE THE DATA INTO DFSELECTED.CSV \n",
    "city_name = []\n",
    "lat = []\n",
    "long = []\n",
    "temp = []\n",
    "humdity = []\n",
    "wind_speed = []\n",
    "cloudiness = []\n",
    "num = 1\n",
    "\n",
    "for city in cities: \n",
    "    try: \n",
    "        data = (requests.get(query_url + city)).json()\n",
    "        city_name.append(data[\"name\"])\n",
    "        lat.append(data[\"coord\"][\"lat\"])\n",
    "        long.append(data[\"coord\"][\"lon\"])\n",
    "        temp.append(data[\"main\"][\"temp\"])\n",
    "        humdity.append(data[\"main\"][\"humidity\"]) \n",
    "        wind_speed.append(data[\"wind\"][\"speed\"]) \n",
    "        cloudiness.append(data[\"clouds\"][\"all\"])\n",
    "        num = num + 1\n",
    "    except KeyError:\n",
    "        num = num + 1   \n",
    "                "
   ]
  },
  {
   "cell_type": "code",
   "execution_count": 9,
   "metadata": {
    "scrolled": true
   },
   "outputs": [
    {
     "data": {
      "text/html": [
       "<div>\n",
       "<style scoped>\n",
       "    .dataframe tbody tr th:only-of-type {\n",
       "        vertical-align: middle;\n",
       "    }\n",
       "\n",
       "    .dataframe tbody tr th {\n",
       "        vertical-align: top;\n",
       "    }\n",
       "\n",
       "    .dataframe thead th {\n",
       "        text-align: right;\n",
       "    }\n",
       "</style>\n",
       "<table border=\"1\" class=\"dataframe\">\n",
       "  <thead>\n",
       "    <tr style=\"text-align: right;\">\n",
       "      <th></th>\n",
       "      <th>City</th>\n",
       "      <th>lat</th>\n",
       "      <th>lon</th>\n",
       "      <th>temp_F</th>\n",
       "      <th>humidity</th>\n",
       "      <th>cloudiness</th>\n",
       "      <th>wind_mph</th>\n",
       "    </tr>\n",
       "  </thead>\n",
       "  <tbody>\n",
       "  </tbody>\n",
       "</table>\n",
       "</div>"
      ],
      "text/plain": [
       "Empty DataFrame\n",
       "Columns: [City, lat, lon, temp_F, humidity, cloudiness, wind_mph]\n",
       "Index: []"
      ]
     },
     "execution_count": 9,
     "metadata": {},
     "output_type": "execute_result"
    }
   ],
   "source": [
    "df=pd.DataFrame({\n",
    "    \"City\": city_name,\n",
    "    \"lat\": lat,\n",
    "    \"lon\": long,\n",
    "    \"temp_F\": temp,\n",
    "    \"humidity\": humdity,\n",
    "    \"cloudiness\": cloudiness,\n",
    "    \"wind_mph\": wind_speed\n",
    "})\n",
    "df=df.head(500)\n",
    "df"
   ]
  },
  {
   "cell_type": "markdown",
   "metadata": {},
   "source": [
    "### Convert Raw Data to DataFrame\n",
    "* Export the city data into a .csv.\n",
    "* Display the DataFrame"
   ]
  },
  {
   "cell_type": "code",
   "execution_count": 10,
   "metadata": {
    "scrolled": false
   },
   "outputs": [
    {
     "data": {
      "text/html": [
       "<div>\n",
       "<style scoped>\n",
       "    .dataframe tbody tr th:only-of-type {\n",
       "        vertical-align: middle;\n",
       "    }\n",
       "\n",
       "    .dataframe tbody tr th {\n",
       "        vertical-align: top;\n",
       "    }\n",
       "\n",
       "    .dataframe thead th {\n",
       "        text-align: right;\n",
       "    }\n",
       "</style>\n",
       "<table border=\"1\" class=\"dataframe\">\n",
       "  <thead>\n",
       "    <tr style=\"text-align: right;\">\n",
       "      <th></th>\n",
       "      <th>City</th>\n",
       "      <th>Latitude</th>\n",
       "      <th>Longitude</th>\n",
       "      <th>Max Temp</th>\n",
       "      <th>Humidity</th>\n",
       "      <th>Cloudiness</th>\n",
       "      <th>Wind Speed</th>\n",
       "    </tr>\n",
       "  </thead>\n",
       "  <tbody>\n",
       "  </tbody>\n",
       "</table>\n",
       "</div>"
      ],
      "text/plain": [
       "Empty DataFrame\n",
       "Columns: [City, Latitude, Longitude, Max Temp, Humidity, Cloudiness, Wind Speed]\n",
       "Index: []"
      ]
     },
     "execution_count": 10,
     "metadata": {},
     "output_type": "execute_result"
    }
   ],
   "source": [
    "# Convert array of JSONs into Pandas DataFrame\n",
    "\n",
    "weather_dict = {\"City\": city_name,\n",
    "                \"Latitude\":lat,\n",
    "                \"Longitude\":long,\n",
    "                \"Max Temp\":temp,\n",
    "              \"Humidity\":humdity,\n",
    "               \"Cloudiness\":cloudiness,\n",
    "              \"Wind Speed\":wind_speed,\n",
    "              # \"Country\":country,\n",
    "}\n",
    "weather_data = pd.DataFrame(weather_dict)\n",
    "weather_data.head()"
   ]
  },
  {
   "cell_type": "code",
   "execution_count": 11,
   "metadata": {},
   "outputs": [
    {
     "data": {
      "text/plain": [
       "0"
      ]
     },
     "execution_count": 11,
     "metadata": {},
     "output_type": "execute_result"
    }
   ],
   "source": [
    "# Export the City_Data into a csv\n",
    "weather_data.to_csv(r'output_data/my_weather_data.csv')\n",
    "# Show Record Count\n",
    "countforme = len(weather_data)\n",
    "countforme"
   ]
  },
  {
   "cell_type": "code",
   "execution_count": 12,
   "metadata": {},
   "outputs": [
    {
     "data": {
      "text/html": [
       "<div>\n",
       "<style scoped>\n",
       "    .dataframe tbody tr th:only-of-type {\n",
       "        vertical-align: middle;\n",
       "    }\n",
       "\n",
       "    .dataframe tbody tr th {\n",
       "        vertical-align: top;\n",
       "    }\n",
       "\n",
       "    .dataframe thead th {\n",
       "        text-align: right;\n",
       "    }\n",
       "</style>\n",
       "<table border=\"1\" class=\"dataframe\">\n",
       "  <thead>\n",
       "    <tr style=\"text-align: right;\">\n",
       "      <th></th>\n",
       "      <th>City</th>\n",
       "      <th>Latitude</th>\n",
       "      <th>Longitude</th>\n",
       "      <th>Max Temp</th>\n",
       "      <th>Humidity</th>\n",
       "      <th>Cloudiness</th>\n",
       "      <th>Wind Speed</th>\n",
       "    </tr>\n",
       "  </thead>\n",
       "  <tbody>\n",
       "  </tbody>\n",
       "</table>\n",
       "</div>"
      ],
      "text/plain": [
       "Empty DataFrame\n",
       "Columns: [City, Latitude, Longitude, Max Temp, Humidity, Cloudiness, Wind Speed]\n",
       "Index: []"
      ]
     },
     "execution_count": 12,
     "metadata": {},
     "output_type": "execute_result"
    }
   ],
   "source": [
    "# Display the City Data Frame\n",
    "weather_data.head()"
   ]
  },
  {
   "cell_type": "markdown",
   "metadata": {},
   "source": [
    "## Inspect the data and remove the cities where the humidity > 100%.\n",
    "----\n",
    "Skip this step if there are no cities that have humidity > 100%. "
   ]
  },
  {
   "cell_type": "code",
   "execution_count": 13,
   "metadata": {},
   "outputs": [
    {
     "ename": "NameError",
     "evalue": "name 'city_data_pd' is not defined",
     "output_type": "error",
     "traceback": [
      "\u001b[1;31m---------------------------------------------------------------------------\u001b[0m",
      "\u001b[1;31mNameError\u001b[0m                                 Traceback (most recent call last)",
      "\u001b[1;32m<ipython-input-13-f8a830f8e6e1>\u001b[0m in \u001b[0;36m<module>\u001b[1;34m\u001b[0m\n\u001b[0;32m      1\u001b[0m \u001b[1;31m# Get the indices of cities that have humidity over 100%.\u001b[0m\u001b[1;33m\u001b[0m\u001b[1;33m\u001b[0m\u001b[1;33m\u001b[0m\u001b[0m\n\u001b[1;32m----> 2\u001b[1;33m \u001b[0mcity_data_pd\u001b[0m\u001b[1;33m.\u001b[0m\u001b[0mdescribe\u001b[0m\u001b[1;33m(\u001b[0m\u001b[0mhumidity\u001b[0m \u001b[1;33m>\u001b[0m \u001b[1;36m100\u001b[0m\u001b[1;33m)\u001b[0m\u001b[1;33m\u001b[0m\u001b[1;33m\u001b[0m\u001b[0m\n\u001b[0m\u001b[0;32m      3\u001b[0m \u001b[0mdf\u001b[0m\u001b[1;33m.\u001b[0m\u001b[0mloc\u001b[0m \u001b[1;33m[\u001b[0m\u001b[1;33m(\u001b[0m\u001b[0mweather_data\u001b[0m\u001b[1;33m[\u001b[0m\u001b[0mhumidity\u001b[0m\u001b[1;33m]\u001b[0m\u001b[1;33m<=\u001b[0m\u001b[1;36m100\u001b[0m\u001b[1;33m)\u001b[0m\u001b[1;33m,\u001b[0m\u001b[1;33m:\u001b[0m\u001b[1;33m]\u001b[0m\u001b[1;33m\u001b[0m\u001b[1;33m\u001b[0m\u001b[0m\n",
      "\u001b[1;31mNameError\u001b[0m: name 'city_data_pd' is not defined"
     ]
    }
   ],
   "source": [
    "# Get the indices of cities that have humidity over 100%.\n",
    "city_data_pd.describe(humidity > 100)\n",
    "df.loc [(weather_data[humidity]<=100),:]"
   ]
  },
  {
   "cell_type": "markdown",
   "metadata": {},
   "source": [
    "## Plotting the Data\n",
    "* Use proper labeling of the plots using plot titles (including date of analysis) and axes labels.\n",
    "* Save the plotted figures as .pngs."
   ]
  },
  {
   "cell_type": "markdown",
   "metadata": {},
   "source": [
    "## Latitude vs. Temperature Plot"
   ]
  },
  {
   "cell_type": "code",
   "execution_count": 14,
   "metadata": {
    "scrolled": false
   },
   "outputs": [
    {
     "data": {
      "image/png": "[encoded data removed]",
      "text/plain": [
       "<Figure size 432x288 with 1 Axes>"
      ]
     },
     "metadata": {
      "needs_background": "light"
     },
     "output_type": "display_data"
    }
   ],
   "source": [
    "# LATITUDE VERSUS TEMPERATURE PLOT\n",
    "weather_data.plot(kind='scatter', x='Latitude', y='Max Temp', c='DarkBlue')\n",
    "plt.title('City Latitude vs. Max Temperature ({})'.format(date.today()))\n",
    "plt.xlabel('Latitude')\n",
    "plt.ylabel('Max temperature (F)')\n",
    "plt.grid()\n",
    "plt.savefig(\"Images/LatitudeVsTemperature.png\")"
   ]
  },
  {
   "cell_type": "code",
   "execution_count": 15,
   "metadata": {},
   "outputs": [],
   "source": [
    "# This code is analyzing the maximum temperature of each city relative to its latitude. As expected the highest temperature\n",
    "# ratings are evidenced closest to the equator, or between -20 and +20 latitude. As such, a correlation between these\n",
    "# metrics can be thought to exist. Interestingly, the highest few temperatures are evidenced slightly below the equator as\n",
    "# opposed to more evenly split across each side of the equator."
   ]
  },
  {
   "cell_type": "markdown",
   "metadata": {},
   "source": [
    "## Latitude vs. Humidity Plot"
   ]
  },
  {
   "cell_type": "code",
   "execution_count": 16,
   "metadata": {
    "scrolled": true
   },
   "outputs": [
    {
     "data": {
      "image/png": "[encoded data removed]",
      "text/plain": [
       "<Figure size 432x288 with 1 Axes>"
      ]
     },
     "metadata": {
      "needs_background": "light"
     },
     "output_type": "display_data"
    }
   ],
   "source": [
    "# LATITUDE VERSUS HUMIDITY PLOT\n",
    "weather_data.plot(kind='scatter', x='Latitude', y='Humidity', c='DarkBlue')\n",
    "plt.title('City Latitude vs. Humidity ({})'.format(date.today()))\n",
    "plt.xlabel('Latitude')\n",
    "plt.ylabel('Humidity')\n",
    "plt.grid()\n",
    "plt.savefig(\"Images/LatitudeVsHumidity.png\")"
   ]
  },
  {
   "cell_type": "code",
   "execution_count": null,
   "metadata": {},
   "outputs": [],
   "source": [
    "# This code is analyzing the humidity of each city relative to its latitude. There does not appear to be a strong\n",
    "# correlation between these two metrics as higher (or lower) humidity readings appear across all latitudes."
   ]
  },
  {
   "cell_type": "markdown",
   "metadata": {},
   "source": [
    "## Latitude vs. Cloudiness Plot"
   ]
  },
  {
   "cell_type": "code",
   "execution_count": null,
   "metadata": {},
   "outputs": [],
   "source": [
    "# LATITUDE VERSUS CLOUDINESS PLOT\n",
    "weather_data.plot(kind='scatter', x='Latitude', y='Cloudiness', c='DarkBlue')\n",
    "plt.title('City Latitude vs. Cloudiness ({})'.format(date.today()))\n",
    "plt.xlabel('Latitude')\n",
    "plt.ylabel('Cloudiness')\n",
    "plt.grid()\n",
    "plt.savefig(\"Images/LatitudeVsCloudiness.png\")"
   ]
  },
  {
   "cell_type": "code",
   "execution_count": null,
   "metadata": {},
   "outputs": [],
   "source": [
    "# This code is analyzing the cloudiness level of each city relative to its latitude. There does not appear to be a strong\n",
    "# correlation between these two metrics as cloudiness levels are almost evenly distributed across the entire spectrum of \n",
    "# latitudes."
   ]
  },
  {
   "cell_type": "markdown",
   "metadata": {},
   "source": [
    "## Latitude vs. Wind Speed Plot"
   ]
  },
  {
   "cell_type": "code",
   "execution_count": null,
   "metadata": {
    "scrolled": true
   },
   "outputs": [],
   "source": [
    "# LATITUDE VERSUS WIND SPEED PLOT\n",
    "weather_data.plot(kind='scatter', x='Latitude', y='Wind Speed', c='DarkBlue')\n",
    "plt.title('City Latitude vs. Wind Speed ({})'.format(date.today()))\n",
    "plt.xlabel('Latitude')\n",
    "plt.ylabel('Wind Speed')\n",
    "plt.grid()\n",
    "plt.savefig(\"Images/LatitudeVsWind Speed.png\")"
   ]
  },
  {
   "cell_type": "code",
   "execution_count": null,
   "metadata": {},
   "outputs": [],
   "source": [
    "# This code is analyzing the wind speed of each city relative to its latitude. There does not appear to be a strong\n",
    "# correlation between these two metrics as a similar (and broad) range of wind speed appears to exist across the entire\n",
    "# spectrum of latitudes."
   ]
  },
  {
   "cell_type": "code",
   "execution_count": null,
   "metadata": {},
   "outputs": [],
   "source": [
    "# Create Northern and Southern Hemisphere DataFrames\n",
    "northlat_df = weather_data.loc[weather_data[\"Latitude\"] >= 0,:]\n",
    "southlat_df = weather_data.loc[weather_data[\"Latitude\"] < 0,:]\n",
    "\n",
    "northlat_df.head()"
   ]
  },
  {
   "cell_type": "markdown",
   "metadata": {},
   "source": [
    "## Linear Regression"
   ]
  },
  {
   "cell_type": "code",
   "execution_count": null,
   "metadata": {},
   "outputs": [],
   "source": [
    "# Define plotting function\n",
    "\n",
    "def plotLinearRegression(xdata,ydata,xlbl,ylbl,lblpos,ifig):\n",
    "    (slope, intercept, rvalue, pvalue, stderr) = linregress(xdata, ydata)\n",
    "    print(f\"The r-squared is: {rvalue}\")\n",
    "    regress_values = xdata * slope + intercept\n",
    "    line_eq = \"y = \" + str(round(slope,2)) + \"x + \" + str(round(intercept,2))\n",
    "\n",
    "    plt.scatter(xdata,ydata)\n",
    "    plt.plot(xdata,regress_values,\"r-\")\n",
    "    plt.annotate(line_eq,lblpos,fontsize=15,color=\"red\")\n",
    "    plt.xlabel(xlbl)\n",
    "    plt.ylabel(ylbl)\n",
    "    plt.savefig(f\"output_data/fig{ifig}.png\")\n",
    "    plt.show()"
   ]
  },
  {
   "cell_type": "markdown",
   "metadata": {},
   "source": [
    "####  Northern Hemisphere - Max Temp vs. Latitude Linear Regression"
   ]
  },
  {
   "cell_type": "code",
   "execution_count": null,
   "metadata": {
    "scrolled": true
   },
   "outputs": [],
   "source": [
    "x_values = northlat_df[\"Latitude\"]\n",
    "y_values = northlat_df[\"Max Temp\"]\n",
    "plotLinearRegression(x_values,y_values,'Lat','Max Temp',(6,30),\"latvmaxtemp\")"
   ]
  },
  {
   "cell_type": "code",
   "execution_count": null,
   "metadata": {},
   "outputs": [],
   "source": [
    "# This scatterplot reflects an r-squared value of -0.87, revealing a strong negative linear relationship between decreasing\n",
    "# latitude and decreasing temperature in the Northern Hemisphere. Said another way 87% of the variance is explained by\n",
    "# this linear model of y = -0.75 + 91.41, which is very good."
   ]
  },
  {
   "cell_type": "markdown",
   "metadata": {},
   "source": [
    "####  Southern Hemisphere - Max Temp vs. Latitude Linear Regression"
   ]
  },
  {
   "cell_type": "code",
   "execution_count": null,
   "metadata": {
    "scrolled": true
   },
   "outputs": [],
   "source": [
    "# Southern Hemisphere - Max Temp vs. Latitude Linear Regression\n",
    "x_values = southlat_df[\"Latitude\"]\n",
    "y_values = southlat_df[\"Max Temp\"]\n",
    "plotLinearRegression(x_values,y_values,'Lat','Max Temp',(6,30),\"latvmaxtemp\")"
   ]
  },
  {
   "cell_type": "code",
   "execution_count": null,
   "metadata": {},
   "outputs": [],
   "source": [
    "# This scatter plot shows a weaker relationship between temperature and latitude in the Southern Hemisphere, with an\n",
    "# r-squared value of 0.72. Said another way, the linear curve fit can only account for 72% of the variance seen in the data,\n",
    "# leaving the majority of the variance unexplained by the linear model. So, although there is an apparent correlation it is\n",
    "# not as strong as that for the Northern Hemisphere and is fairly weak at best."
   ]
  },
  {
   "cell_type": "markdown",
   "metadata": {},
   "source": [
    "####  Northern Hemisphere - Humidity (%) vs. Latitude Linear Regression"
   ]
  },
  {
   "cell_type": "code",
   "execution_count": null,
   "metadata": {
    "scrolled": true
   },
   "outputs": [],
   "source": [
    "# Northern Hemisphere - Humidity (%) vs. Latitude Linear Regression\n",
    "x_values = northlat_df[\"Latitude\"]\n",
    "y_values = northlat_df[\"Humidity\"]\n",
    "plotLinearRegression(x_values,y_values,'Lat','Humidity',(6,30),\"lathumdity\")"
   ]
  },
  {
   "cell_type": "code",
   "execution_count": null,
   "metadata": {},
   "outputs": [],
   "source": [
    "# This scatter plot shows a very weak relationship between latitude and humidity in the Northern Hemisphere with an\n",
    "# r-squared value of 0.12. This linear curve can only account for 12% of the variance seen in the data,\n",
    "# leaving the vast majority of the variance unexplained by the equation of the line y = 0.13x + 66.63. "
   ]
  },
  {
   "cell_type": "markdown",
   "metadata": {},
   "source": [
    "####  Southern Hemisphere - Humidity (%) vs. Latitude Linear Regression"
   ]
  },
  {
   "cell_type": "code",
   "execution_count": null,
   "metadata": {
    "scrolled": true
   },
   "outputs": [],
   "source": [
    "# Southern Hemisphere - Humidity (%) vs. Latitude Linear Regression\n",
    "x_values = southlat_df[\"Latitude\"]\n",
    "y_values = southlat_df[\"Humidity\"]\n",
    "plotLinearRegression(x_values,y_values,'Lat','Humidity',(6,30),\"lathumdity\")"
   ]
  },
  {
   "cell_type": "code",
   "execution_count": null,
   "metadata": {},
   "outputs": [],
   "source": [
    "# In the Southern Hemisphere there is a very weak correlation between latitude and humidity. The linear regression has an\n",
    "# r-squared value of 0.05, meaning 5% of the variance in the data is explained by the curve fit. "
   ]
  },
  {
   "cell_type": "markdown",
   "metadata": {},
   "source": [
    "####  Northern Hemisphere - Cloudiness (%) vs. Latitude Linear Regression"
   ]
  },
  {
   "cell_type": "code",
   "execution_count": null,
   "metadata": {
    "scrolled": true
   },
   "outputs": [],
   "source": [
    "# Northern Hemisphere - Cloudiness (%) vs. Latitude Linear Regression\n",
    "x_values = northlat_df[\"Latitude\"]\n",
    "y_values = northlat_df[\"Cloudiness\"]\n",
    "plotLinearRegression(x_values,y_values,'Lat','Cloudiness',(6,30),\"latcloudiness\")"
   ]
  },
  {
   "cell_type": "code",
   "execution_count": null,
   "metadata": {},
   "outputs": [],
   "source": [
    "# In the Northern Hemisphere there is not an apparent significant correlation between latitude and cloudiness.\n",
    "# The linear regression curve fit yields an equation of the line with an r-squared value of only 0.06, meaning the\n",
    "# linear equation of the line only explains 6% of the variance seen. The line of best fit confirms that there is\n",
    "# really no correlation between latitude and cloudiness in the Northern Hemisphere."
   ]
  },
  {
   "cell_type": "markdown",
   "metadata": {},
   "source": [
    "####  Southern Hemisphere - Cloudiness (%) vs. Latitude Linear Regression"
   ]
  },
  {
   "cell_type": "code",
   "execution_count": null,
   "metadata": {
    "scrolled": true
   },
   "outputs": [],
   "source": [
    "# Sourhern Hemisphere - Cloudiness (%) vs. Latitude Linear Regression\n",
    "x_values = southlat_df[\"Latitude\"]\n",
    "y_values = southlat_df[\"Cloudiness\"]\n",
    "plotLinearRegression(x_values,y_values,'Lat','Cloudiness',(6,30),\"latcloudiness\")"
   ]
  },
  {
   "cell_type": "code",
   "execution_count": null,
   "metadata": {},
   "outputs": [],
   "source": [
    "# In the Southern Hemisphere, latitude weakly correlates with cloudiness with an equation of the linear regression\n",
    "# yielding an r-squared value of 0.10, meaning only 10% of the variance of the observed data can be accounted for by this\n",
    "# equation. In short, this is a weak correlation."
   ]
  },
  {
   "cell_type": "markdown",
   "metadata": {},
   "source": [
    "####  Northern Hemisphere - Wind Speed (mph) vs. Latitude Linear Regression"
   ]
  },
  {
   "cell_type": "code",
   "execution_count": null,
   "metadata": {
    "scrolled": true
   },
   "outputs": [],
   "source": [
    "# Northern Hemisphere - Wind Speed (mph) vs. Latitude Linear Regression\n",
    "xlbl = \"Lat\"\n",
    "x_values = northlat_df[\"Latitude\"]\n",
    "y_values = northlat_df[\"Wind Speed\"]\n",
    "plotLinearRegression(x_values,y_values,'Lat','Wind Speed',(6,30),\"latwind_speed\")"
   ]
  },
  {
   "cell_type": "code",
   "execution_count": null,
   "metadata": {},
   "outputs": [],
   "source": [
    "# There is a low correlation between latitude and wind speed in the Northern Hemisphere. Only 16% of the variance can be\n",
    "# accounted for by the line of best fit."
   ]
  },
  {
   "cell_type": "markdown",
   "metadata": {},
   "source": [
    "####  Southern Hemisphere - Wind Speed (mph) vs. Latitude Linear Regression"
   ]
  },
  {
   "cell_type": "code",
   "execution_count": null,
   "metadata": {
    "scrolled": true
   },
   "outputs": [],
   "source": [
    "# Southern Hemisphere - Wind Speed (mph) vs. Latitude Linear Regression\n",
    "x_values = southlat_df[\"Latitude\"]\n",
    "y_values = southlat_df[\"Wind Speed\"]\n",
    "plotLinearRegression(x_values,y_values,'Lat','Wind Speed',(6,30),\"latwind_speed\")"
   ]
  },
  {
   "cell_type": "code",
   "execution_count": null,
   "metadata": {},
   "outputs": [],
   "source": [
    "# For the Southern Hemisphere there is a stronger correlation between latitude and wind speed with an r-squared value\n",
    "# of -0.24. A weak measure, it is saying that the majority of the variance cannot be explained by the\n",
    "# linear regression curve fit between wind speed and latitude."
   ]
  }
 ],
 "metadata": {
  "anaconda-cloud": {},
  "kernel_info": {
   "name": "python3"
  },
  "kernelspec": {
   "display_name": "Python 3",
   "language": "python",
   "name": "python3"
  },
  "language_info": {
   "codemirror_mode": {
    "name": "ipython",
    "version": 3
   },
   "file_extension": ".py",
   "mimetype": "text/x-python",
   "name": "python",
   "nbconvert_exporter": "python",
   "pygments_lexer": "ipython3",
   "version": "3.6.10"
  },
  "latex_envs": {
   "LaTeX_envs_menu_present": true,
   "autoclose": false,
   "autocomplete": true,
   "bibliofile": "biblio.bib",
   "cite_by": "apalike",
   "current_citInitial": 1,
   "eqLabelWithNumbers": true,
   "eqNumInitial": 1,
   "hotkeys": {
    "equation": "Ctrl-E",
    "itemize": "Ctrl-I"
   },
   "labels_anchors": false,
   "latex_user_defs": false,
   "report_style_numbering": false,
   "user_envs_cfg": false
  },
  "nteract": {
   "version": "0.12.3"
  }
 },
 "nbformat": 4,
 "nbformat_minor": 2
}
